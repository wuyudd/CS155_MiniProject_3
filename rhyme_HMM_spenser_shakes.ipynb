{
 "cells": [
  {
   "cell_type": "code",
   "execution_count": 3,
   "metadata": {},
   "outputs": [
    {
     "name": "stderr",
     "output_type": "stream",
     "text": [
      "[nltk_data] Downloading package cmudict to /Users/ywwu/nltk_data...\n",
      "[nltk_data]   Package cmudict is already up-to-date!\n"
     ]
    }
   ],
   "source": [
    "from pre_processing import *\n",
    "from syllable_dictionary import *\n",
    "from split_poem import *\n",
    "from build_rhyme_dict import *\n",
    "import os\n",
    "import numpy as np\n",
    "import random\n",
    "import collections\n",
    "import pyphen\n",
    "\n",
    "from IPython.display import HTML\n",
    "from nltk.corpus import cmudict\n",
    "import nltk\n",
    "nltk.download('cmudict')\n",
    "\n",
    "from HMM import unsupervised_HMM\n",
    "from HMM_helper import (\n",
    "    text_to_wordcloud,\n",
    "    states_to_wordclouds,\n",
    "    parse_observations,\n",
    "    sample_sentence,\n",
    "    visualize_sparsities,\n",
    "    animate_emission\n",
    ")"
   ]
  },
  {
   "cell_type": "code",
   "execution_count": 4,
   "metadata": {},
   "outputs": [],
   "source": [
    "# get syllable dict from Syllable_dictionary.txt\n",
    "syllable_filename = \"./project3/data/Syllable_dictionary.txt\"\n",
    "syllable_dict, syllable_end_dict = get_syllable_dict(syllable_filename)"
   ]
  },
  {
   "cell_type": "code",
   "execution_count": null,
   "metadata": {},
   "outputs": [],
   "source": [
    "# enlarge syllable dict with spenser\n",
    "spenser_filename = \"./project3/data/spenser.txt\"\n",
    "spenser_poems = load_spenser(spenser_filename)\n",
    "spenser_words = load_spenser_words(spenser_poems)\n",
    "syllable_dict_combine = add_spenser_syllable_dict(spenser_words, syllable_dict)"
   ]
  },
  {
   "cell_type": "code",
   "execution_count": null,
   "metadata": {},
   "outputs": [],
   "source": [
    "# get rhyme dict from shakespeare.txt\n",
    "rhyme_filename_sha = \"./project3/data/shakespeare.txt\"\n",
    "sha_rhyme_dict = get_rhyme_dict(rhyme_filename_sha)"
   ]
  },
  {
   "cell_type": "code",
   "execution_count": null,
   "metadata": {},
   "outputs": [],
   "source": [
    "# get rhyme dict from spenser.txt\n",
    "rhyme_filename_spen = \"./project3/data/spenser.txt\"\n",
    "spen_rhyme_dict = get_rhyme_dict_spenser(rhyme_filename_spen)\n",
    "comebine_rhyme_dict = combine_sha_spen_rhyme_dict(sha_rhyme_dict, spen_rhyme_dict)"
   ]
  },
  {
   "cell_type": "code",
   "execution_count": 3,
   "metadata": {},
   "outputs": [],
   "source": [
    "def get_combine_dicts_shakes_spen(syllable_filename, spenser_filename, rhyme_filename_sha, rhyme_filename_spen):\n",
    "    # get syllable dict from Syllable_dictionary.txt\n",
    "    syllable_dict, syllable_end_dict = get_syllable_dict(syllable_filename)\n",
    "    # combine syllable dict with spenser\n",
    "    spenser_poems = load_spenser(spenser_filename)\n",
    "    spenser_words = load_spenser_words(spenser_poems)\n",
    "    syllable_dict_combine = add_spenser_syllable_dict(spenser_words, syllable_dict)\n",
    "    # get rhyme dict from shakespeare.txt\n",
    "    sha_rhyme_dict = get_rhyme_dict(rhyme_filename_sha)\n",
    "    spen_rhyme_dict = get_rhyme_dict_spenser(rhyme_filename_spen)\n",
    "    # combine rhyme dict with sha&spen\n",
    "    comebine_rhyme_dict = combine_sha_spen_rhyme_dict(sha_rhyme_dict, spen_rhyme_dict)\n",
    "    \n",
    "    return syllable_dict_combine, comebine_rhyme_dict, syllable_end_dict\n"
   ]
  },
  {
   "cell_type": "code",
   "execution_count": null,
   "metadata": {
    "scrolled": true
   },
   "outputs": [],
   "source": [
    "# syllable_filename = \"./project3/data/Syllable_dictionary.txt\"\n",
    "# spenser_filename = \"./project3/data/spenser.txt\"\n",
    "# shakespeare_filename = \"./project3/data/shakespeare.txt\"\n",
    "# rhyme_filename_sha = \"./project3/data/shakespeare.txt\"\n",
    "# rhyme_filename_spen = \"./project3/data/spenser.txt\"\n",
    "# syllable_dict_combine, comebine_rhyme_dict = get_combine_dicts_shakes_spen(syllable_filename, spenser_filename, rhyme_filename_sha, rhyme_filename_spen)\n"
   ]
  },
  {
   "cell_type": "code",
   "execution_count": null,
   "metadata": {},
   "outputs": [],
   "source": [
    "rev_obs_combine_s, rev_obs_map_combine_s = pre_processing_sentences_reverse_spenser(shakespeare_filename, spenser_filename)"
   ]
  },
  {
   "cell_type": "code",
   "execution_count": null,
   "metadata": {},
   "outputs": [],
   "source": [
    "# just for test\n",
    "hmm8_s_combine = unsupervised_HMM(rev_obs_combine_s, 10, 1)"
   ]
  },
  {
   "cell_type": "code",
   "execution_count": null,
   "metadata": {},
   "outputs": [],
   "source": [
    "curr_poem_output = generate_rhyme_new(hmm8_s_combine, comebine_rhyme_dict, syllable_dict_combine, syllable_end_dict, rev_obs_map_combine_s)\n",
    "print(\"Our Poem:\")\n",
    "print(curr_poem_output)"
   ]
  },
  {
   "cell_type": "code",
   "execution_count": null,
   "metadata": {},
   "outputs": [],
   "source": []
  }
 ],
 "metadata": {
  "kernelspec": {
   "display_name": "Python 3",
   "language": "python",
   "name": "python3"
  },
  "language_info": {
   "codemirror_mode": {
    "name": "ipython",
    "version": 3
   },
   "file_extension": ".py",
   "mimetype": "text/x-python",
   "name": "python",
   "nbconvert_exporter": "python",
   "pygments_lexer": "ipython3",
   "version": "3.6.7"
  }
 },
 "nbformat": 4,
 "nbformat_minor": 2
}
