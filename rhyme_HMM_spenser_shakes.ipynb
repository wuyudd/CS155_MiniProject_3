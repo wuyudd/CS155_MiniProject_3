{
 "cells": [
  {
   "cell_type": "code",
   "execution_count": 3,
   "metadata": {},
   "outputs": [
    {
     "name": "stderr",
     "output_type": "stream",
     "text": [
      "[nltk_data] Downloading package cmudict to /Users/ywwu/nltk_data...\n",
      "[nltk_data]   Package cmudict is already up-to-date!\n"
     ]
    }
   ],
   "source": [
    "from pre_processing import *\n",
    "from syllable_dictionary import *\n",
    "from split_poem import *\n",
    "from build_rhyme_dict import *\n",
    "import os\n",
    "import numpy as np\n",
    "import random\n",
    "import collections\n",
    "import pyphen\n",
    "\n",
    "from IPython.display import HTML\n",
    "from nltk.corpus import cmudict\n",
    "import nltk\n",
    "nltk.download('cmudict')\n",
    "\n",
    "from HMM import unsupervised_HMM\n",
    "from HMM_helper import (\n",
    "    text_to_wordcloud,\n",
    "    states_to_wordclouds,\n",
    "    parse_observations,\n",
    "    sample_sentence,\n",
    "    visualize_sparsities,\n",
    "    animate_emission\n",
    ")"
   ]
  },
  {
   "cell_type": "code",
   "execution_count": 4,
   "metadata": {},
   "outputs": [],
   "source": [
    "# get syllable dict from Syllable_dictionary.txt\n",
    "syllable_filename = \"./project3/data/Syllable_dictionary.txt\"\n",
    "syllable_dict, syllable_end_dict = get_syllable_dict(syllable_filename)"
   ]
  },
  {
   "cell_type": "code",
   "execution_count": 5,
   "metadata": {},
   "outputs": [],
   "source": [
    "# enlarge syllable dict with spenser\n",
    "spenser_filename = \"./project3/data/spenser.txt\"\n",
    "spenser_poems = load_spenser(spenser_filename)\n",
    "spenser_words = load_spenser_words(spenser_poems)\n",
    "syllable_dict_combine = add_spenser_syllable_dict(spenser_words, syllable_dict)"
   ]
  },
  {
   "cell_type": "code",
   "execution_count": 6,
   "metadata": {},
   "outputs": [],
   "source": [
    "# get rhyme dict from shakespeare.txt\n",
    "rhyme_filename_sha = \"./project3/data/shakespeare.txt\"\n",
    "sha_rhyme_dict = get_rhyme_dict(rhyme_filename_sha)"
   ]
  },
  {
   "cell_type": "code",
   "execution_count": 7,
   "metadata": {},
   "outputs": [
    {
     "name": "stdout",
     "output_type": "stream",
     "text": [
      "['Happy ye leaves when as those lily hands,', 'Which hold my life in their dead-doing might,', \"Shall handle you and hold in love's soft bands,\", \"Like captives trembling at the victor's sight.\", 'And happy lines, on which with starry light,', 'Those lamping eyes will deign sometimes to look', 'And read the sorrows of my dying sprite,', \"Written with tears in heart's close-bleeding book.\", \"And happy rhymes bath'd in the sacred brook,\", 'Of Helicon whence she derived is,', \"When ye behold that Angel's blessed look,\", \"My soul's long-lacked food, my heaven's bliss.\", 'Leaves, lines, and rhymes, seek her to please alone,', 'Whom if ye please, I care for other none.']\n",
      "!!! IN build_rhyme_dict.py function: combine_sha_spen_rhyme_dict\n",
      "1==length of sha_rhyme_dict =  1023\n",
      "2==length of spen_rhyme_dict =  714\n",
      "3==length of comebine_rhyme_dict =  1451\n",
      "!!! OUT build_rhyme_dict.py function: combine_sha_spen_rhyme_dict\n"
     ]
    }
   ],
   "source": [
    "# get rhyme dict from spenser.txt\n",
    "rhyme_filename_spen = \"./project3/data/spenser.txt\"\n",
    "spen_rhyme_dict = get_rhyme_dict_spenser(rhyme_filename_spen)\n",
    "comebine_rhyme_dict = combine_sha_spen_rhyme_dict(sha_rhyme_dict, spen_rhyme_dict)"
   ]
  },
  {
   "cell_type": "code",
   "execution_count": 3,
   "metadata": {},
   "outputs": [],
   "source": [
    "def get_combine_dicts_shakes_spen(syllable_filename, spenser_filename, rhyme_filename_sha, rhyme_filename_spen):\n",
    "    # get syllable dict from Syllable_dictionary.txt\n",
    "    syllable_dict, syllable_end_dict = get_syllable_dict(syllable_filename)\n",
    "    # combine syllable dict with spenser\n",
    "    spenser_poems = load_spenser(spenser_filename)\n",
    "    spenser_words = load_spenser_words(spenser_poems)\n",
    "    syllable_dict_combine = add_spenser_syllable_dict(spenser_words, syllable_dict)\n",
    "    # get rhyme dict from shakespeare.txt\n",
    "    sha_rhyme_dict = get_rhyme_dict(rhyme_filename_sha)\n",
    "    spen_rhyme_dict = get_rhyme_dict_spenser(rhyme_filename_spen)\n",
    "    # combine rhyme dict with sha&spen\n",
    "    comebine_rhyme_dict = combine_sha_spen_rhyme_dict(sha_rhyme_dict, spen_rhyme_dict)\n",
    "    \n",
    "    return syllable_dict_combine, comebine_rhyme_dict, syllable_end_dict\n"
   ]
  },
  {
   "cell_type": "code",
   "execution_count": 10,
   "metadata": {
    "scrolled": true
   },
   "outputs": [],
   "source": [
    "syllable_filename = \"./project3/data/Syllable_dictionary.txt\"\n",
    "spenser_filename = \"./project3/data/spenser.txt\"\n",
    "shakespeare_filename = \"./project3/data/shakespeare.txt\"\n",
    "rhyme_filename_sha = \"./project3/data/shakespeare.txt\"\n",
    "rhyme_filename_spen = \"./project3/data/spenser.txt\"\n",
    "# syllable_dict_combine, comebine_rhyme_dict = get_combine_dicts_shakes_spen(syllable_filename, spenser_filename, rhyme_filename_sha, rhyme_filename_spen)\n"
   ]
  },
  {
   "cell_type": "code",
   "execution_count": 11,
   "metadata": {},
   "outputs": [
    {
     "name": "stdout",
     "output_type": "stream",
     "text": [
      "!!! IN pre_processing.py, function: pre_processing_sentences_reverse_spenser\n",
      "only shakespeare rev_obs_map length =  3212\n",
      "shakespeare+spenser rev_obs_map length =  4366\n",
      "!!! OUT pre_processing.py, function: pre_processing_sentences_reverse_spenser\n"
     ]
    }
   ],
   "source": [
    "rev_obs_combine_s, rev_obs_map_combine_s = pre_processing_sentences_reverse_spenser(shakespeare_filename, spenser_filename)"
   ]
  },
  {
   "cell_type": "code",
   "execution_count": 12,
   "metadata": {},
   "outputs": [],
   "source": [
    "# just for test\n",
    "hmm8_s_combine = unsupervised_HMM(rev_obs_combine_s, 10, 1)"
   ]
  },
  {
   "cell_type": "code",
   "execution_count": 13,
   "metadata": {},
   "outputs": [
    {
     "name": "stdout",
     "output_type": "stream",
     "text": [
      "Our Poem:\n",
      "an five stage praise it so dear to the his\n",
      "thy harbour say no entrapped on then die\n",
      "rhymes did mind so forbid slow none you is\n",
      "meed count had are yet a had alters die\n",
      "perish sure that blessed more he our to\n",
      "misuse growing proof if from year my all\n",
      "or by long pleasure begin sings the do\n",
      "random hast is goodly love's such one all\n",
      "her glance these penance her will trance love no\n",
      "with thoughts star as to rose beloved shall\n",
      "pride true not the says whose be that did no\n",
      "smiles i you these away tell your smart shall\n",
      "is feed ye accents for of price that is\n",
      "more brood hill new i as then of or his.\n"
     ]
    }
   ],
   "source": [
    "curr_poem_output = generate_rhyme_new(hmm8_s_combine, comebine_rhyme_dict, syllable_dict_combine, syllable_end_dict, rev_obs_map_combine_s)\n",
    "print(\"Our Poem:\")\n",
    "print(curr_poem_output)"
   ]
  },
  {
   "cell_type": "code",
   "execution_count": null,
   "metadata": {},
   "outputs": [
    {
     "name": "stdout",
     "output_type": "stream",
     "text": [
      "------------------------------------START------------------------------------\n",
      "Current number of hidden states =  5\n",
      "Iteration: 10\n",
      "Iteration: 20\n",
      "Iteration: 30\n",
      "Iteration: 40\n",
      "Iteration: 50\n",
      "Iteration: 60\n",
      "Iteration: 70\n",
      "Iteration: 80\n",
      "Iteration: 90\n",
      "Iteration: 100\n",
      "Current poem output: \n",
      "beauty's no so self for eyes you so night\n",
      "their my estimate starve vantage shall have\n",
      "which no canopy all nest baser night\n",
      "and art or but heart with on good thoughts have\n",
      "longer goddess when you all like thy will\n",
      "it me invoked then have bosom's thoughts hate\n",
      "makes let hath if she all at that mayst will\n",
      "of if expressed mine she is me doth hate\n",
      "hours thou weep nature hast form do and have\n",
      "nor your very the you see weed but thee\n",
      "yet think copy mazed him when her looks have\n",
      "that with i before unto when no thee\n",
      "not branches that and nothing new impart\n",
      "fight did lines but came purpose proud being part.\n",
      "------------------------------------END------------------------------------\n",
      "------------------------------------START------------------------------------\n",
      "Current number of hidden states =  8\n",
      "Iteration: 10\n",
      "Iteration: 20\n",
      "Iteration: 30\n",
      "Iteration: 40\n",
      "Iteration: 50\n",
      "Iteration: 60\n",
      "Iteration: 70\n",
      "Iteration: 80\n",
      "Iteration: 90\n",
      "Iteration: 100\n",
      "Current poem output: \n",
      "thence on i half more utter what thee to\n",
      "lame but who from so there the stage this mine\n",
      "their plenty of constant so my babe to\n",
      "i such and took grow'st calls eye thenceforth mine\n",
      "as of the doth now to not in i weak\n",
      "spider that resembling head with thee art\n",
      "thou kill no and of me will o and speak\n",
      "neither do his thy sake can your ill heart\n",
      "mad nothing fill love but to nothing to\n",
      "such advantage after my doom can smoke\n",
      "the loves on be bending by each all too\n",
      "for and side of all eyes now thou to smoke\n",
      "subjects which the heinous thing but many\n",
      "say at a his bale with you his any.\n",
      "------------------------------------END------------------------------------\n",
      "------------------------------------START------------------------------------\n",
      "Current number of hidden states =  16\n",
      "Iteration: 10\n",
      "Iteration: 20\n",
      "Iteration: 30\n",
      "Iteration: 40\n",
      "Iteration: 50\n",
      "Iteration: 60\n",
      "Iteration: 70\n",
      "Iteration: 80\n",
      "Iteration: 90\n",
      "Iteration: 100\n",
      "Current poem output: \n",
      "such in night of not so world's thou to no\n",
      "o she this heart beauteous we willing smart\n",
      "to unthrifty needeth wander the grieve so\n",
      "soft so that bareness prove hand will depart\n",
      "prayed mild behold the queen when water end\n",
      "life with hasten every heart trump delight\n",
      "as that thou both sake loving me for end\n",
      "thousand of so be amorous delight\n",
      "languished in broken the i your she me\n",
      "and did the air in things modest self do\n",
      "with last wounded feasting on dart mend me\n",
      "sins the if there without for i the too\n",
      "thou of thy the done none place of many so\n",
      "the thing in my beast when mars nothing no.\n",
      "------------------------------------END------------------------------------\n",
      "------------------------------------START------------------------------------\n",
      "Current number of hidden states =  24\n",
      "Iteration: 10\n",
      "Iteration: 20\n",
      "Iteration: 30\n",
      "Iteration: 40\n",
      "Iteration: 50\n",
      "Iteration: 60\n",
      "Iteration: 70\n",
      "Iteration: 80\n",
      "Iteration: 90\n"
     ]
    }
   ],
   "source": [
    "num_hidden_states = [5, 8, 16, 24]\n",
    "iteration = 100\n",
    "hmms = []\n",
    "our_poems = []\n",
    "for num_hs in num_hidden_states:\n",
    "    print(\"------------------------------------START------------------------------------\")\n",
    "    print(\"Current number of hidden states = \", num_hs)\n",
    "    hmm8_s_combine = unsupervised_HMM(rev_obs_combine_s, num_hs, iteration)\n",
    "    hmms.append(hmm8_s_combine)\n",
    "    \n",
    "    curr_poem_output = generate_rhyme_new(hmm8_s_combine, comebine_rhyme_dict, syllable_dict_combine, syllable_end_dict, rev_obs_map_combine_s)\n",
    "    our_poems.append(curr_poem_output)\n",
    "    print(\"Current poem output: \")\n",
    "    print(curr_poem_output)\n",
    "    print(\"------------------------------------END------------------------------------\")\n",
    "    "
   ]
  },
  {
   "cell_type": "code",
   "execution_count": null,
   "metadata": {},
   "outputs": [],
   "source": []
  }
 ],
 "metadata": {
  "kernelspec": {
   "display_name": "Python 3",
   "language": "python",
   "name": "python3"
  },
  "language_info": {
   "codemirror_mode": {
    "name": "ipython",
    "version": 3
   },
   "file_extension": ".py",
   "mimetype": "text/x-python",
   "name": "python",
   "nbconvert_exporter": "python",
   "pygments_lexer": "ipython3",
   "version": "3.6.7"
  }
 },
 "nbformat": 4,
 "nbformat_minor": 2
}
