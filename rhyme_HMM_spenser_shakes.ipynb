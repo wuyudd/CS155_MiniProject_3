{
 "cells": [
  {
   "cell_type": "code",
   "execution_count": 1,
   "metadata": {},
   "outputs": [
    {
     "name": "stderr",
     "output_type": "stream",
     "text": [
      "[nltk_data] Downloading package punkt to /Users/ywwu/nltk_data...\n",
      "[nltk_data]   Package punkt is already up-to-date!\n"
     ]
    },
    {
     "ename": "ModuleNotFoundError",
     "evalue": "No module named 'pyphen'",
     "output_type": "error",
     "traceback": [
      "\u001b[0;31m---------------------------------------------------------------------------\u001b[0m",
      "\u001b[0;31mModuleNotFoundError\u001b[0m                       Traceback (most recent call last)",
      "\u001b[0;32m<ipython-input-1-dfcd197b47b6>\u001b[0m in \u001b[0;36m<module>\u001b[0;34m\u001b[0m\n\u001b[1;32m      7\u001b[0m \u001b[0;32mimport\u001b[0m \u001b[0mrandom\u001b[0m\u001b[0;34m\u001b[0m\u001b[0;34m\u001b[0m\u001b[0m\n\u001b[1;32m      8\u001b[0m \u001b[0;32mimport\u001b[0m \u001b[0mcollections\u001b[0m\u001b[0;34m\u001b[0m\u001b[0;34m\u001b[0m\u001b[0m\n\u001b[0;32m----> 9\u001b[0;31m \u001b[0;32mimport\u001b[0m \u001b[0mpyphen\u001b[0m\u001b[0;34m\u001b[0m\u001b[0;34m\u001b[0m\u001b[0m\n\u001b[0m\u001b[1;32m     10\u001b[0m \u001b[0;34m\u001b[0m\u001b[0m\n\u001b[1;32m     11\u001b[0m \u001b[0;32mfrom\u001b[0m \u001b[0mIPython\u001b[0m\u001b[0;34m.\u001b[0m\u001b[0mdisplay\u001b[0m \u001b[0;32mimport\u001b[0m \u001b[0mHTML\u001b[0m\u001b[0;34m\u001b[0m\u001b[0;34m\u001b[0m\u001b[0m\n",
      "\u001b[0;31mModuleNotFoundError\u001b[0m: No module named 'pyphen'"
     ]
    }
   ],
   "source": [
    "from pre_processing import *\n",
    "from syllable_dictionary import *\n",
    "from split_poem import *\n",
    "from build_rhyme_dict import *\n",
    "import os\n",
    "import numpy as np\n",
    "import random\n",
    "import collections\n",
    "import pyphen\n",
    "\n",
    "from IPython.display import HTML\n",
    "from nltk.corpus import cmudict\n",
    "import nltk\n",
    "nltk.download('cmudict')\n",
    "\n",
    "from HMM import unsupervised_HMM\n",
    "from HMM_helper import (\n",
    "    text_to_wordcloud,\n",
    "    states_to_wordclouds,\n",
    "    parse_observations,\n",
    "    sample_sentence,\n",
    "    visualize_sparsities,\n",
    "    animate_emission\n",
    ")"
   ]
  },
  {
   "cell_type": "code",
   "execution_count": null,
   "metadata": {},
   "outputs": [],
   "source": [
    "# # get syllable dict from Syllable_dictionary.txt\n",
    "# syllable_filename = \"./project3/data/Syllable_dictionary.txt\"\n",
    "# syllable_dict, syllable_end_dict = get_syllable_dict(syllable_filename)\n",
    "\n",
    "# # enlarge syllable dict with spenser\n",
    "# spenser_filename = \"./project3/data/spenser.txt\"\n",
    "# spenser_poems = load_spenser(spenser_filename)\n",
    "# spenser_words = load_spenser_words(spenser_poems)\n",
    "# syllable_dict_combine = add_spenser_syllable_dict(spenser_words, syllable_dict)\n",
    "\n",
    "# # get rhyme dict from shakespeare.txt\n",
    "# rhyme_filename_sha = \"./project3/data/shakespeare.txt\"\n",
    "# rhyme_dict = get_rhyme_dict(rhyme_filename_sha)\n",
    "\n",
    "# # get rhyme dict from spenser.txt\n",
    "# rhyme_filename_spen = \"./project3/data/spenser.txt\"\n",
    "# rhyme_dict_spenser = get_rhyme_dict_spenser(rhyme_filename_spen)\n",
    "# rhyme_combine = combine_sha_spen_rhyme_map(rhyme_dict, rhyme_dict_spenser)"
   ]
  },
  {
   "cell_type": "code",
   "execution_count": null,
   "metadata": {},
   "outputs": [],
   "source": [
    "def get_combine_dicts_shakes_spen(syllable_filename, spenser_filename, rhyme_filename_sha, rhyme_filename_spen):\n",
    "    # get syllable dict from Syllable_dictionary.txt\n",
    "    syllable_dict, syllable_end_dict = get_syllable_dict(syllable_filename)\n",
    "    # combine syllable dict with spenser\n",
    "    spenser_poems = load_spenser(spenser_filename)\n",
    "    spenser_words = load_spenser_words(spenser_poems)\n",
    "    syllable_dict_combine = add_spenser_syllable_dict(spenser_words, syllable_dict)\n",
    "    # get rhyme dict from shakespeare.txt\n",
    "    sha_rhyme_dict = get_rhyme_dict(rhyme_filename_sha)\n",
    "    spen_rhyme_dict = get_rhyme_dict_spenser(rhyme_filename_spen)\n",
    "    # combine rhyme dict with sha&spen\n",
    "    comebine_rhyme_dict = combine_sha_spen_rhyme_dict(sha_rhyme_dict, spen_rhyme_dict)\n",
    "    \n",
    "    return syllable_dict_combine, comebine_rhyme_dict, syllable_end_dict\n"
   ]
  },
  {
   "cell_type": "code",
   "execution_count": null,
   "metadata": {},
   "outputs": [],
   "source": [
    "syllable_filename = \"./project3/data/Syllable_dictionary.txt\"\n",
    "spenser_filename = \"./project3/data/spenser.txt\"\n",
    "shakespeare_filename = \"./project3/data/shakespeare.txt\"\n",
    "rhyme_filename_sha = \"./project3/data/shakespeare.txt\"\n",
    "rhyme_filename_spen = \"./project3/data/spenser.txt\"\n",
    "syllable_dict_combine, comebine_rhyme_dict = get_combine_dicts_shakes_spen(syllable_filename, spenser_filename, rhyme_filename_sha, rhyme_filename_spen)\n"
   ]
  },
  {
   "cell_type": "code",
   "execution_count": null,
   "metadata": {},
   "outputs": [],
   "source": [
    "rev_obs_combine_s, rev_obs_map_combine_s = pre_processing_sentences_reverse_spenser(shakespeare_filename, spenser_filename)"
   ]
  },
  {
   "cell_type": "code",
   "execution_count": null,
   "metadata": {},
   "outputs": [],
   "source": [
    "# just for test\n",
    "hmm8_s_combine = unsupervised_HMM(rev_obs_combine_s, 10, 1)"
   ]
  },
  {
   "cell_type": "code",
   "execution_count": null,
   "metadata": {},
   "outputs": [],
   "source": [
    "curr_poem_output = generate_rhyme_new(hmm8_s_combine, comebine_rhyme_dict, syllable_dict_combine, syllable_end_dict, rev_obs_map_combine_s)"
   ]
  }
 ],
 "metadata": {
  "kernelspec": {
   "display_name": "Python 3",
   "language": "python",
   "name": "python3"
  },
  "language_info": {
   "codemirror_mode": {
    "name": "ipython",
    "version": 3
   },
   "file_extension": ".py",
   "mimetype": "text/x-python",
   "name": "python",
   "nbconvert_exporter": "python",
   "pygments_lexer": "ipython3",
   "version": "3.6.7"
  }
 },
 "nbformat": 4,
 "nbformat_minor": 2
}
