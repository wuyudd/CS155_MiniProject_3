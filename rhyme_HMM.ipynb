{
 "cells": [
  {
   "cell_type": "code",
   "execution_count": 1,
   "metadata": {},
   "outputs": [
    {
     "name": "stderr",
     "output_type": "stream",
     "text": [
      "[nltk_data] Downloading package punkt to\n",
      "[nltk_data]     C:\\Users\\Ss\\AppData\\Roaming\\nltk_data...\n",
      "[nltk_data]   Package punkt is already up-to-date!\n"
     ]
    }
   ],
   "source": [
    "from pre_processing import *\n",
    "from syllable_dictionary import *\n",
    "from split_poem import *\n",
    "import os\n",
    "import numpy as np\n",
    "from IPython.display import HTML\n",
    "\n",
    "from HMM import unsupervised_HMM\n",
    "from HMM_helper import (\n",
    "    text_to_wordcloud,\n",
    "    states_to_wordclouds,\n",
    "    parse_observations,\n",
    "    sample_sentence,\n",
    "    visualize_sparsities,\n",
    "    animate_emission\n",
    ")\n",
    "import random\n",
    "from build_rhyme_dict import *\n",
    "from syllable_dictionary import *"
   ]
  },
  {
   "cell_type": "code",
   "execution_count": 2,
   "metadata": {},
   "outputs": [],
   "source": [
    "syllable_filename = \"./project3/data/Syllable_dictionary.txt\"\n",
    "syllable_dict, syllable_end_dict = get_syllable_dict(syllable_filename)"
   ]
  },
  {
   "cell_type": "code",
   "execution_count": 3,
   "metadata": {},
   "outputs": [],
   "source": [
    "rhyme_filename = \"./project3/data/shakespeare.txt\"\n",
    "rhyme_dict = get_rhyme_dict(rhyme_filename)"
   ]
  },
  {
   "cell_type": "code",
   "execution_count": 4,
   "metadata": {},
   "outputs": [
    {
     "name": "stdout",
     "output_type": "stream",
     "text": [
      "count of puncs =  0\n",
      "0\n",
      "10\n",
      "20\n",
      "30\n",
      "40\n",
      "50\n",
      "60\n",
      "70\n",
      "80\n",
      "90\n"
     ]
    }
   ],
   "source": [
    "filename = \"./project3/data/shakespeare.txt\"\n",
    "obs_p, obs_map_p = pre_processing_sentences_reverse(filename)\n",
    "hmm8_p = unsupervised_HMM(obs_p, 10, 100)\n",
    "# generated_sentence = sample_sentence(hmm8_p, obs_map_p, n_words=300)"
   ]
  },
  {
   "cell_type": "code",
   "execution_count": 5,
   "metadata": {},
   "outputs": [],
   "source": [
    "def generate_rhyme(model, rhyme_dict, syllable_dict, syllable_end_dict, obs_map_p):\n",
    "    poem = []\n",
    "    non_dup = set()\n",
    "    count = 0\n",
    "    while count < 7:\n",
    "        sentence1 = sample_sentence(model, obs_map_p, n_words=10)\n",
    "        words1 = sentence1.split(\" \")\n",
    "        if (words1[0] in rhyme_dict) and (words1[0] not in non_dup):\n",
    "            valid1, valid_sentence1 = exact_ten_syllables(words1, syllable_dict, syllable_end_dict)\n",
    "            while valid1:\n",
    "                sentence2 = sample_sentence(model, obs_map_p, n_words=10)\n",
    "                words2 = sentence2.split(\" \")\n",
    "#                 print(\"========:\", words1, words2)\n",
    "                if (words2[0] in rhyme_dict[words1[0]]) and (words2[0] not in non_dup):\n",
    "                    valid2, valid_sentence2 = exact_ten_syllables(words2, syllable_dict, syllable_end_dict)\n",
    "                    if valid2:\n",
    "                        poem.append(valid_sentence1)\n",
    "                        poem.append(valid_sentence2)\n",
    "                        non_dup.add(words1[0])\n",
    "                        non_dup.add(words2[0])\n",
    "                        count += 1\n",
    "                        break\n",
    "    \n",
    "    for i in range(14):\n",
    "        poem[i] = reverse(poem[i])\n",
    "    \n",
    "    poem_output = poem[0] +\",\"+ poem[2] +\",\"+ poem[1] +\",\"+ poem[3] +\",\"+ poem[4] +\",\"+ poem[6] +\",\"+ poem[5] +\",\"+ poem[7] + \",\"+ \\\n",
    "                  poem[8] +\",\"+ poem[10] +\",\"+ poem[9] +\",\"+ poem[11] +\",\"+ poem[12] +\",\"+ poem[13] +\".\"\n",
    "    \n",
    "    return poem_output"
   ]
  },
  {
   "cell_type": "code",
   "execution_count": 6,
   "metadata": {},
   "outputs": [],
   "source": [
    "def reverse(sentence):\n",
    "    words = sentence.split(\" \")\n",
    "    left = 0\n",
    "    right = len(words)-1\n",
    "    \n",
    "    while left < right:\n",
    "        temp = words[left]\n",
    "        words[left] = words[right]\n",
    "        words[right] = temp\n",
    "        left += 1\n",
    "        right -= 1\n",
    "    \n",
    "    sentence_reversed = \" \".join(words)\n",
    "    return sentence_reversed"
   ]
  },
  {
   "cell_type": "code",
   "execution_count": 7,
   "metadata": {},
   "outputs": [],
   "source": [
    "def exact_ten_syllables(words, syllable_dict, syllable_end_dict):\n",
    "    count = 0\n",
    "    valid_words = []\n",
    "    valid = False\n",
    "    for word in words:\n",
    "        curr_syllable_max = 0\n",
    "        curr_syllable_min = 0\n",
    "        \n",
    "        if word in syllable_end_dict:\n",
    "            if count + syllable_end_dict[word] == 10:\n",
    "                valid_words.append(word)\n",
    "                valid = True\n",
    "                break\n",
    "        \n",
    "        if len(syllable_dict[word]) == 0:\n",
    "            break\n",
    "        elif len(syllable_dict[word]) == 1:\n",
    "            curr_syllable_len = syllable_dict[word][0]\n",
    "        else:\n",
    "            print(len(syllable_dict[word]))\n",
    "            rnd_idx = random.randint(0, len(syllable_dict[word])-1)\n",
    "            curr_syllable_len = syllable_dict[word][rnd_idx]\n",
    "        \n",
    "        count += curr_syllable_len\n",
    "        if count < 10:\n",
    "            valid_words.append(word)\n",
    "        elif count == 10:\n",
    "                valid_words.append(word)\n",
    "                valid = True\n",
    "                break\n",
    "        else:\n",
    "            valid = False\n",
    "    \n",
    "    valid_sentence = \"\"\n",
    "    if valid:\n",
    "        for word in valid_words:\n",
    "            valid_sentence += word + \" \"\n",
    "    \n",
    "    return valid, valid_sentence.strip()"
   ]
  },
  {
   "cell_type": "code",
   "execution_count": 8,
   "metadata": {},
   "outputs": [],
   "source": [
    "# words = [\"about\",\"about\",\"a-doting\",\"about\",\"a\",\"about\"]\n",
    "# valid, valid_sentence = exact_ten_syllables(words, syllable_dict, syllable_end_dict)\n",
    "# print(valid)\n",
    "# print(valid_sentence)"
   ]
  },
  {
   "cell_type": "code",
   "execution_count": 9,
   "metadata": {},
   "outputs": [
    {
     "data": {
      "text/plain": [
       "'thy if doth though thy breast and the thy stelled,have so alone rich doth my to thereby,so the cause a now there is common held,swear neglect i thy his riches doth die,it age permit worth remember sense me,where and self shall wait eyes they i thee rents,are i happier heart shall can win in thee,and have eye and am self-same ornaments,world and in my so thou of that cars eye,lack is lovely seasons to her the name,art thou my self is costly remedy,those though still day i summer fair till fame,to history thou with doth thralled lend,but by hope lives i thee my as doth tend.'"
      ]
     },
     "execution_count": 9,
     "metadata": {},
     "output_type": "execute_result"
    }
   ],
   "source": [
    "generate_rhyme(hmm8_p, rhyme_dict, syllable_dict, syllable_end_dict, obs_map_p)"
   ]
  },
  {
   "cell_type": "code",
   "execution_count": null,
   "metadata": {},
   "outputs": [],
   "source": [
    "print(rhyme_dict)"
   ]
  },
  {
   "cell_type": "code",
   "execution_count": null,
   "metadata": {},
   "outputs": [],
   "source": []
  }
 ],
 "metadata": {
  "kernelspec": {
   "display_name": "Python 3",
   "language": "python",
   "name": "python3"
  },
  "language_info": {
   "codemirror_mode": {
    "name": "ipython",
    "version": 3
   },
   "file_extension": ".py",
   "mimetype": "text/x-python",
   "name": "python",
   "nbconvert_exporter": "python",
   "pygments_lexer": "ipython3",
   "version": "3.6.8"
  }
 },
 "nbformat": 4,
 "nbformat_minor": 2
}
