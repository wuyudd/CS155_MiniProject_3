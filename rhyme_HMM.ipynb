{
 "cells": [
  {
   "cell_type": "code",
   "execution_count": 1,
   "metadata": {},
   "outputs": [
    {
     "name": "stderr",
     "output_type": "stream",
     "text": [
      "[nltk_data] Downloading package punkt to\n",
      "[nltk_data]     C:\\Users\\Ss\\AppData\\Roaming\\nltk_data...\n",
      "[nltk_data]   Package punkt is already up-to-date!\n"
     ]
    }
   ],
   "source": [
    "from pre_processing import *\n",
    "from syllable_dictionary import *\n",
    "from split_poem import *\n",
    "import os\n",
    "import numpy as np\n",
    "from IPython.display import HTML\n",
    "import heapq\n",
    "\n",
    "from HMM import unsupervised_HMM\n",
    "from HMM_helper import (\n",
    "    text_to_wordcloud,\n",
    "    states_to_wordclouds,\n",
    "    parse_observations,\n",
    "    sample_sentence,\n",
    "    visualize_sparsities,\n",
    "    animate_emission\n",
    ")\n",
    "import random\n",
    "from build_rhyme_dict import *\n",
    "from syllable_dictionary import *"
   ]
  },
  {
   "cell_type": "code",
   "execution_count": 2,
   "metadata": {},
   "outputs": [],
   "source": [
    "# get syllable dictionary\n",
    "syllable_filename = \"./project3/data/Syllable_dictionary.txt\"\n",
    "syllable_dict, syllable_end_dict = get_syllable_dict(syllable_filename)"
   ]
  },
  {
   "cell_type": "code",
   "execution_count": 3,
   "metadata": {},
   "outputs": [],
   "source": [
    "# get rhyme dictionary\n",
    "rhyme_filename = \"./project3/data/shakespeare.txt\"\n",
    "rhyme_dict = get_rhyme_dict(rhyme_filename)"
   ]
  },
  {
   "cell_type": "code",
   "execution_count": 4,
   "metadata": {},
   "outputs": [
    {
     "name": "stdout",
     "output_type": "stream",
     "text": [
      "count of puncs =  0\n",
      "0\n",
      "10\n",
      "20\n",
      "30\n",
      "40\n",
      "50\n",
      "60\n",
      "70\n",
      "80\n",
      "90\n"
     ]
    }
   ],
   "source": [
    "# run HMM\n",
    "filename = \"./project3/data/shakespeare.txt\"\n",
    "obs_s, obs_map_s = pre_processing_sentences_reverse(filename)\n",
    "hmm8_s = unsupervised_HMM(obs_s, 10, 100)\n",
    "# generated_sentence = sample_sentence(hmm8_s, obs_map_s, n_words=300)"
   ]
  },
  {
   "cell_type": "code",
   "execution_count": null,
   "metadata": {},
   "outputs": [],
   "source": [
    "# generate final poem\n",
    "poem_output = generate_rhyme(hmm8_s, rhyme_dict, syllable_dict, syllable_end_dict, obs_map_s)"
   ]
  },
  {
   "cell_type": "code",
   "execution_count": 8,
   "metadata": {},
   "outputs": [],
   "source": [
    "# words = [\"about\",\"about\",\"a-doting\",\"about\",\"a\",\"about\"]\n",
    "# valid, valid_sentence = exact_ten_syllables(words, syllable_dict, syllable_end_dict)\n",
    "# print(valid)\n",
    "# print(valid_sentence)"
   ]
  },
  {
   "cell_type": "code",
   "execution_count": null,
   "metadata": {},
   "outputs": [],
   "source": [
    "# visualize"
   ]
  },
  {
   "cell_type": "code",
   "execution_count": null,
   "metadata": {},
   "outputs": [],
   "source": [
    "def get_high_prob_obs(hmm, num_obs_displayed):\n",
    "    A_mat = hmm.A\n",
    "    O_mat = hmm.O\n",
    "    for i in range(len(O_mat)): # states, O_mat[i] are the probabilities of each obs under this state\n",
    "        obs_prob = []\n",
    "        \n",
    "        "
   ]
  }
 ],
 "metadata": {
  "kernelspec": {
   "display_name": "Python 3",
   "language": "python",
   "name": "python3"
  },
  "language_info": {
   "codemirror_mode": {
    "name": "ipython",
    "version": 3
   },
   "file_extension": ".py",
   "mimetype": "text/x-python",
   "name": "python",
   "nbconvert_exporter": "python",
   "pygments_lexer": "ipython3",
   "version": "3.7.1"
  }
 },
 "nbformat": 4,
 "nbformat_minor": 2
}
