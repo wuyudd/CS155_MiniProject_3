{
 "cells": [
  {
   "cell_type": "code",
   "execution_count": 1,
   "metadata": {},
   "outputs": [
    {
     "name": "stderr",
     "output_type": "stream",
     "text": [
      "[nltk_data] Downloading package punkt to /Users/ywwu/nltk_data...\n",
      "[nltk_data]   Package punkt is already up-to-date!\n"
     ]
    }
   ],
   "source": [
    "from pre_processing import *\n",
    "from syllable_dictionary import *\n",
    "from split_poem import *\n",
    "import os\n",
    "import numpy as np\n",
    "from IPython.display import HTML\n",
    "import heapq\n",
    "\n",
    "from HMM import unsupervised_HMM\n",
    "from HMM_helper import (\n",
    "    text_to_wordcloud,\n",
    "    states_to_wordclouds,\n",
    "    parse_observations,\n",
    "    sample_sentence,\n",
    "    visualize_sparsities,\n",
    "    animate_emission\n",
    ")\n",
    "import random\n",
    "from build_rhyme_dict import *"
   ]
  },
  {
   "cell_type": "code",
   "execution_count": 2,
   "metadata": {},
   "outputs": [],
   "source": [
    "# get syllable dictionary\n",
    "syllable_filename = \"./project3/data/Syllable_dictionary.txt\"\n",
    "syllable_dict, syllable_end_dict = get_syllable_dict(syllable_filename)"
   ]
  },
  {
   "cell_type": "code",
   "execution_count": 3,
   "metadata": {},
   "outputs": [],
   "source": [
    "# get rhyme dictionary\n",
    "rhyme_filename = \"./project3/data/shakespeare.txt\"\n",
    "rhyme_dict = get_rhyme_dict(rhyme_filename)"
   ]
  },
  {
   "cell_type": "code",
   "execution_count": 4,
   "metadata": {},
   "outputs": [
    {
     "name": "stdout",
     "output_type": "stream",
     "text": [
      "count of puncs =  0\n"
     ]
    }
   ],
   "source": [
    "# run HMM\n",
    "filename = \"./project3/data/shakespeare.txt\"\n",
    "obs_s, obs_map_s = pre_processing_sentences_reverse(filename)\n",
    "# get reversed obs_map_s\n",
    "obs_map_s_rev = {}\n",
    "for key, value in obs_map_s.items():\n",
    "    obs_map_s_rev[value] = key"
   ]
  },
  {
   "cell_type": "code",
   "execution_count": 5,
   "metadata": {},
   "outputs": [
    {
     "name": "stdout",
     "output_type": "stream",
     "text": [
      "***************************** Hidden States Start! *****************************\n",
      "Current number of hidden states =  5\n",
      "----------------------- Iteration Start! -----------------------\n",
      "Current iteration times =  50\n",
      "Iteration: 10\n",
      "Iteration: 20\n",
      "Iteration: 30\n",
      "Iteration: 40\n",
      "Iteration: 50\n"
     ]
    },
    {
     "ename": "KeyboardInterrupt",
     "evalue": "",
     "output_type": "error",
     "traceback": [
      "\u001b[0;31m---------------------------------------------------------------------------\u001b[0m",
      "\u001b[0;31mKeyboardInterrupt\u001b[0m                         Traceback (most recent call last)",
      "\u001b[0;32m<ipython-input-5-d81bb444af52>\u001b[0m in \u001b[0;36m<module>\u001b[0;34m\u001b[0m\n\u001b[1;32m     13\u001b[0m         \u001b[0mhmms\u001b[0m\u001b[0;34m.\u001b[0m\u001b[0mappend\u001b[0m\u001b[0;34m(\u001b[0m\u001b[0mhmm8_s\u001b[0m\u001b[0;34m)\u001b[0m\u001b[0;34m\u001b[0m\u001b[0;34m\u001b[0m\u001b[0m\n\u001b[1;32m     14\u001b[0m \u001b[0;34m\u001b[0m\u001b[0m\n\u001b[0;32m---> 15\u001b[0;31m         \u001b[0mcurr_poem_output\u001b[0m \u001b[0;34m=\u001b[0m \u001b[0mgenerate_rhyme\u001b[0m\u001b[0;34m(\u001b[0m\u001b[0mhmm8_s\u001b[0m\u001b[0;34m,\u001b[0m \u001b[0mrhyme_dict\u001b[0m\u001b[0;34m,\u001b[0m \u001b[0msyllable_dict\u001b[0m\u001b[0;34m,\u001b[0m \u001b[0msyllable_end_dict\u001b[0m\u001b[0;34m,\u001b[0m \u001b[0mobs_map_s\u001b[0m\u001b[0;34m)\u001b[0m\u001b[0;34m\u001b[0m\u001b[0;34m\u001b[0m\u001b[0m\n\u001b[0m\u001b[1;32m     16\u001b[0m         \u001b[0mprint\u001b[0m\u001b[0;34m(\u001b[0m\u001b[0;34m\"+++++++++ Current Poem Start! ++++++++\"\u001b[0m\u001b[0;34m)\u001b[0m\u001b[0;34m\u001b[0m\u001b[0;34m\u001b[0m\u001b[0m\n\u001b[1;32m     17\u001b[0m         \u001b[0mprint\u001b[0m\u001b[0;34m(\u001b[0m\u001b[0mcurr_poem_output\u001b[0m\u001b[0;34m)\u001b[0m\u001b[0;34m\u001b[0m\u001b[0;34m\u001b[0m\u001b[0m\n",
      "\u001b[0;32m/Volumes/Disk1/ywwu/courses/cms155/project3/CS155_MiniProject_3/pre_processing.py\u001b[0m in \u001b[0;36mgenerate_rhyme\u001b[0;34m(model, rhyme_dict, syllable_dict, syllable_end_dict, obs_map_p)\u001b[0m\n\u001b[1;32m    344\u001b[0m             \u001b[0mvalid1\u001b[0m\u001b[0;34m,\u001b[0m \u001b[0mvalid_sentence1\u001b[0m \u001b[0;34m=\u001b[0m \u001b[0mexact_ten_syllables\u001b[0m\u001b[0;34m(\u001b[0m\u001b[0mwords1\u001b[0m\u001b[0;34m,\u001b[0m \u001b[0msyllable_dict\u001b[0m\u001b[0;34m,\u001b[0m \u001b[0msyllable_end_dict\u001b[0m\u001b[0;34m)\u001b[0m\u001b[0;34m\u001b[0m\u001b[0;34m\u001b[0m\u001b[0m\n\u001b[1;32m    345\u001b[0m             \u001b[0;32mwhile\u001b[0m \u001b[0mvalid1\u001b[0m\u001b[0;34m:\u001b[0m\u001b[0;34m\u001b[0m\u001b[0;34m\u001b[0m\u001b[0m\n\u001b[0;32m--> 346\u001b[0;31m                 \u001b[0msentence2\u001b[0m \u001b[0;34m=\u001b[0m \u001b[0msample_sentence\u001b[0m\u001b[0;34m(\u001b[0m\u001b[0mmodel\u001b[0m\u001b[0;34m,\u001b[0m \u001b[0mobs_map_p\u001b[0m\u001b[0;34m,\u001b[0m \u001b[0mn_words\u001b[0m\u001b[0;34m=\u001b[0m\u001b[0;36m10\u001b[0m\u001b[0;34m)\u001b[0m\u001b[0;34m\u001b[0m\u001b[0;34m\u001b[0m\u001b[0m\n\u001b[0m\u001b[1;32m    347\u001b[0m                 \u001b[0mwords2\u001b[0m \u001b[0;34m=\u001b[0m \u001b[0msentence2\u001b[0m\u001b[0;34m.\u001b[0m\u001b[0msplit\u001b[0m\u001b[0;34m(\u001b[0m\u001b[0;34m\" \"\u001b[0m\u001b[0;34m)\u001b[0m\u001b[0;34m\u001b[0m\u001b[0;34m\u001b[0m\u001b[0m\n\u001b[1;32m    348\u001b[0m                 \u001b[0;31m#print(\"================ words1[0] = \", words1[0], \", words2[0] = \", words2[0], \"=========================\")\u001b[0m\u001b[0;34m\u001b[0m\u001b[0;34m\u001b[0m\u001b[0;34m\u001b[0m\u001b[0m\n",
      "\u001b[0;32m/Volumes/Disk1/ywwu/courses/cms155/project3/CS155_MiniProject_3/HMM_helper.py\u001b[0m in \u001b[0;36msample_sentence\u001b[0;34m(hmm, obs_map, n_words)\u001b[0m\n\u001b[1;32m    120\u001b[0m \u001b[0;32mdef\u001b[0m \u001b[0msample_sentence\u001b[0m\u001b[0;34m(\u001b[0m\u001b[0mhmm\u001b[0m\u001b[0;34m,\u001b[0m \u001b[0mobs_map\u001b[0m\u001b[0;34m,\u001b[0m \u001b[0mn_words\u001b[0m\u001b[0;34m=\u001b[0m\u001b[0;36m100\u001b[0m\u001b[0;34m)\u001b[0m\u001b[0;34m:\u001b[0m\u001b[0;34m\u001b[0m\u001b[0;34m\u001b[0m\u001b[0m\n\u001b[1;32m    121\u001b[0m     \u001b[0;31m# Get reverse map.\u001b[0m\u001b[0;34m\u001b[0m\u001b[0;34m\u001b[0m\u001b[0;34m\u001b[0m\u001b[0m\n\u001b[0;32m--> 122\u001b[0;31m     \u001b[0mobs_map_r\u001b[0m \u001b[0;34m=\u001b[0m \u001b[0mobs_map_reverser\u001b[0m\u001b[0;34m(\u001b[0m\u001b[0mobs_map\u001b[0m\u001b[0;34m)\u001b[0m\u001b[0;34m\u001b[0m\u001b[0;34m\u001b[0m\u001b[0m\n\u001b[0m\u001b[1;32m    123\u001b[0m \u001b[0;34m\u001b[0m\u001b[0m\n\u001b[1;32m    124\u001b[0m     \u001b[0;31m# Sample and convert sentence.\u001b[0m\u001b[0;34m\u001b[0m\u001b[0;34m\u001b[0m\u001b[0;34m\u001b[0m\u001b[0m\n",
      "\u001b[0;32m/Volumes/Disk1/ywwu/courses/cms155/project3/CS155_MiniProject_3/HMM_helper.py\u001b[0m in \u001b[0;36mobs_map_reverser\u001b[0;34m(obs_map)\u001b[0m\n\u001b[1;32m    114\u001b[0m \u001b[0;34m\u001b[0m\u001b[0m\n\u001b[1;32m    115\u001b[0m     \u001b[0;32mfor\u001b[0m \u001b[0mkey\u001b[0m \u001b[0;32min\u001b[0m \u001b[0mobs_map\u001b[0m\u001b[0;34m:\u001b[0m\u001b[0;34m\u001b[0m\u001b[0;34m\u001b[0m\u001b[0m\n\u001b[0;32m--> 116\u001b[0;31m         \u001b[0mobs_map_r\u001b[0m\u001b[0;34m[\u001b[0m\u001b[0mobs_map\u001b[0m\u001b[0;34m[\u001b[0m\u001b[0mkey\u001b[0m\u001b[0;34m]\u001b[0m\u001b[0;34m]\u001b[0m \u001b[0;34m=\u001b[0m \u001b[0mkey\u001b[0m\u001b[0;34m\u001b[0m\u001b[0;34m\u001b[0m\u001b[0m\n\u001b[0m\u001b[1;32m    117\u001b[0m \u001b[0;34m\u001b[0m\u001b[0m\n\u001b[1;32m    118\u001b[0m     \u001b[0;32mreturn\u001b[0m \u001b[0mobs_map_r\u001b[0m\u001b[0;34m\u001b[0m\u001b[0;34m\u001b[0m\u001b[0m\n",
      "\u001b[0;31mKeyboardInterrupt\u001b[0m: "
     ]
    }
   ],
   "source": [
    "num_hidden_states = [8, 10, 15, 20, 25]\n",
    "iterations = [100, 150, 200]\n",
    "hmms = []\n",
    "num_obs_displayed = 10\n",
    "for num_hs in num_hidden_states:\n",
    "    print(\"***************************** Hidden States Start! *****************************\")\n",
    "    print(\"Current number of hidden states = \", num_hs)\n",
    "    \n",
    "    for iteration in iterations:\n",
    "        print(\"----------------------- Iteration Start! -----------------------\")\n",
    "        print(\"Current iteration times = \", iteration)\n",
    "        hmm8_s = unsupervised_HMM(obs_s, num_hs, iteration)\n",
    "        print(\"HERE ___ Train done ___ HERE\")\n",
    "        hmms.append(hmm8_s)\n",
    "        \n",
    "        curr_poem_output = generate_rhyme(hmm8_s, rhyme_dict, syllable_dict, syllable_end_dict, obs_map_s)\n",
    "        print(\"+++++++++ Current Poem Start! ++++++++\")\n",
    "        print(curr_poem_output)\n",
    "        print(\"+++++++++ Current Poem End! ++++++++++\")\n",
    "        \n",
    "        state_obs_topN = get_high_prob_obs(hmm8_s, num_obs_displayed)\n",
    "        for key, value in state_obs_topN.items():\n",
    "            print(\"///State = \", key, \", top N prob obs: \", value, \"///\")\n",
    "            \n",
    "        print(\"----------------------- Iteration End! ------------------------\")\n",
    "        \n",
    "    print(\"***************************** Hidden States End! *****************************\")\n",
    "        \n",
    "\n",
    "# generated_sentence = sample_sentence(hmm8_s, obs_map_s, n_words=300)"
   ]
  },
  {
   "cell_type": "code",
   "execution_count": 8,
   "metadata": {},
   "outputs": [
    {
     "ename": "KeyboardInterrupt",
     "evalue": "",
     "output_type": "error",
     "traceback": [
      "\u001b[0;31m---------------------------------------------------------------------------\u001b[0m",
      "\u001b[0;31mKeyboardInterrupt\u001b[0m                         Traceback (most recent call last)",
      "\u001b[0;32m<ipython-input-8-356c827240fa>\u001b[0m in \u001b[0;36m<module>\u001b[0;34m\u001b[0m\n\u001b[1;32m      1\u001b[0m \u001b[0;31m# generate final poem\u001b[0m\u001b[0;34m\u001b[0m\u001b[0;34m\u001b[0m\u001b[0;34m\u001b[0m\u001b[0m\n\u001b[0;32m----> 2\u001b[0;31m \u001b[0mpoem_output\u001b[0m \u001b[0;34m=\u001b[0m \u001b[0mgenerate_rhyme\u001b[0m\u001b[0;34m(\u001b[0m\u001b[0mhmm8_s\u001b[0m\u001b[0;34m,\u001b[0m \u001b[0mrhyme_dict\u001b[0m\u001b[0;34m,\u001b[0m \u001b[0msyllable_dict\u001b[0m\u001b[0;34m,\u001b[0m \u001b[0msyllable_end_dict\u001b[0m\u001b[0;34m,\u001b[0m \u001b[0mobs_map_s\u001b[0m\u001b[0;34m)\u001b[0m\u001b[0;34m\u001b[0m\u001b[0;34m\u001b[0m\u001b[0m\n\u001b[0m",
      "\u001b[0;32m/Volumes/Disk1/ywwu/courses/cms155/project3/CS155_MiniProject_3/pre_processing.py\u001b[0m in \u001b[0;36mgenerate_rhyme\u001b[0;34m(model, rhyme_dict, syllable_dict, syllable_end_dict, obs_map_p)\u001b[0m\n\u001b[1;32m    241\u001b[0m     \u001b[0mobs\u001b[0m\u001b[0;34m,\u001b[0m \u001b[0mobs_map\u001b[0m \u001b[0;34m=\u001b[0m \u001b[0mencode\u001b[0m\u001b[0;34m(\u001b[0m\u001b[0mno_puncs_tokens\u001b[0m\u001b[0;34m)\u001b[0m\u001b[0;34m\u001b[0m\u001b[0;34m\u001b[0m\u001b[0m\n\u001b[1;32m    242\u001b[0m     \u001b[0;31m# print(\"********************* obs *********************\")\u001b[0m\u001b[0;34m\u001b[0m\u001b[0;34m\u001b[0m\u001b[0;34m\u001b[0m\u001b[0m\n\u001b[0;32m--> 243\u001b[0;31m     \u001b[0;31m# print(obs[0])\u001b[0m\u001b[0;34m\u001b[0m\u001b[0;34m\u001b[0m\u001b[0;34m\u001b[0m\u001b[0m\n\u001b[0m\u001b[1;32m    244\u001b[0m     \u001b[0;31m# print(\"********************* obs_map *********************\")\u001b[0m\u001b[0;34m\u001b[0m\u001b[0;34m\u001b[0m\u001b[0;34m\u001b[0m\u001b[0m\n\u001b[1;32m    245\u001b[0m     \u001b[0;31m# print(obs_map)\u001b[0m\u001b[0;34m\u001b[0m\u001b[0;34m\u001b[0m\u001b[0;34m\u001b[0m\u001b[0m\n",
      "\u001b[0;32m/Volumes/Disk1/ywwu/courses/cms155/project3/CS155_MiniProject_3/HMM_helper.py\u001b[0m in \u001b[0;36msample_sentence\u001b[0;34m(hmm, obs_map, n_words)\u001b[0m\n\u001b[1;32m    123\u001b[0m \u001b[0;34m\u001b[0m\u001b[0m\n\u001b[1;32m    124\u001b[0m     \u001b[0;31m# Sample and convert sentence.\u001b[0m\u001b[0;34m\u001b[0m\u001b[0;34m\u001b[0m\u001b[0;34m\u001b[0m\u001b[0m\n\u001b[0;32m--> 125\u001b[0;31m     \u001b[0memission\u001b[0m\u001b[0;34m,\u001b[0m \u001b[0mstates\u001b[0m \u001b[0;34m=\u001b[0m \u001b[0mhmm\u001b[0m\u001b[0;34m.\u001b[0m\u001b[0mgenerate_emission\u001b[0m\u001b[0;34m(\u001b[0m\u001b[0mn_words\u001b[0m\u001b[0;34m)\u001b[0m\u001b[0;34m\u001b[0m\u001b[0;34m\u001b[0m\u001b[0m\n\u001b[0m\u001b[1;32m    126\u001b[0m     \u001b[0msentence\u001b[0m \u001b[0;34m=\u001b[0m \u001b[0;34m[\u001b[0m\u001b[0mobs_map_r\u001b[0m\u001b[0;34m[\u001b[0m\u001b[0mi\u001b[0m\u001b[0;34m]\u001b[0m \u001b[0;32mfor\u001b[0m \u001b[0mi\u001b[0m \u001b[0;32min\u001b[0m \u001b[0memission\u001b[0m\u001b[0;34m]\u001b[0m\u001b[0;34m\u001b[0m\u001b[0;34m\u001b[0m\u001b[0m\n\u001b[1;32m    127\u001b[0m \u001b[0;34m\u001b[0m\u001b[0m\n",
      "\u001b[0;32m/Volumes/Disk1/ywwu/courses/cms155/project3/CS155_MiniProject_3/HMM.py\u001b[0m in \u001b[0;36mgenerate_emission\u001b[0;34m(self, M)\u001b[0m\n\u001b[1;32m    397\u001b[0m \u001b[0;34m\u001b[0m\u001b[0m\n\u001b[1;32m    398\u001b[0m         \u001b[0memission\u001b[0m \u001b[0;34m=\u001b[0m \u001b[0;34m[\u001b[0m\u001b[0;34m]\u001b[0m\u001b[0;34m\u001b[0m\u001b[0;34m\u001b[0m\u001b[0m\n\u001b[0;32m--> 399\u001b[0;31m         \u001b[0mstate\u001b[0m \u001b[0;34m=\u001b[0m \u001b[0mrandom\u001b[0m\u001b[0;34m.\u001b[0m\u001b[0mchoice\u001b[0m\u001b[0;34m(\u001b[0m\u001b[0mrange\u001b[0m\u001b[0;34m(\u001b[0m\u001b[0mself\u001b[0m\u001b[0;34m.\u001b[0m\u001b[0mL\u001b[0m\u001b[0;34m)\u001b[0m\u001b[0;34m)\u001b[0m\u001b[0;34m\u001b[0m\u001b[0;34m\u001b[0m\u001b[0m\n\u001b[0m\u001b[1;32m    400\u001b[0m         \u001b[0mstates\u001b[0m \u001b[0;34m=\u001b[0m \u001b[0;34m[\u001b[0m\u001b[0;34m]\u001b[0m\u001b[0;34m\u001b[0m\u001b[0;34m\u001b[0m\u001b[0m\n\u001b[1;32m    401\u001b[0m \u001b[0;34m\u001b[0m\u001b[0m\n",
      "\u001b[0;32m~/anaconda3/lib/python3.7/random.py\u001b[0m in \u001b[0;36mchoice\u001b[0;34m(self, seq)\u001b[0m\n\u001b[1;32m    257\u001b[0m         \u001b[0;34m\"\"\"Choose a random element from a non-empty sequence.\"\"\"\u001b[0m\u001b[0;34m\u001b[0m\u001b[0;34m\u001b[0m\u001b[0m\n\u001b[1;32m    258\u001b[0m         \u001b[0;32mtry\u001b[0m\u001b[0;34m:\u001b[0m\u001b[0;34m\u001b[0m\u001b[0;34m\u001b[0m\u001b[0m\n\u001b[0;32m--> 259\u001b[0;31m             \u001b[0mi\u001b[0m \u001b[0;34m=\u001b[0m \u001b[0mself\u001b[0m\u001b[0;34m.\u001b[0m\u001b[0m_randbelow\u001b[0m\u001b[0;34m(\u001b[0m\u001b[0mlen\u001b[0m\u001b[0;34m(\u001b[0m\u001b[0mseq\u001b[0m\u001b[0;34m)\u001b[0m\u001b[0;34m)\u001b[0m\u001b[0;34m\u001b[0m\u001b[0;34m\u001b[0m\u001b[0m\n\u001b[0m\u001b[1;32m    260\u001b[0m         \u001b[0;32mexcept\u001b[0m \u001b[0mValueError\u001b[0m\u001b[0;34m:\u001b[0m\u001b[0;34m\u001b[0m\u001b[0;34m\u001b[0m\u001b[0m\n\u001b[1;32m    261\u001b[0m             \u001b[0;32mraise\u001b[0m \u001b[0mIndexError\u001b[0m\u001b[0;34m(\u001b[0m\u001b[0;34m'Cannot choose from an empty sequence'\u001b[0m\u001b[0;34m)\u001b[0m \u001b[0;32mfrom\u001b[0m \u001b[0;32mNone\u001b[0m\u001b[0;34m\u001b[0m\u001b[0;34m\u001b[0m\u001b[0m\n",
      "\u001b[0;32m~/anaconda3/lib/python3.7/random.py\u001b[0m in \u001b[0;36m_randbelow\u001b[0;34m(self, n, int, maxsize, type, Method, BuiltinMethod)\u001b[0m\n\u001b[1;32m    231\u001b[0m         \u001b[0;31m# has not been overridden or if a new getrandbits() was supplied.\u001b[0m\u001b[0;34m\u001b[0m\u001b[0;34m\u001b[0m\u001b[0;34m\u001b[0m\u001b[0m\n\u001b[1;32m    232\u001b[0m         \u001b[0;32mif\u001b[0m \u001b[0mtype\u001b[0m\u001b[0;34m(\u001b[0m\u001b[0mrandom\u001b[0m\u001b[0;34m)\u001b[0m \u001b[0;32mis\u001b[0m \u001b[0mBuiltinMethod\u001b[0m \u001b[0;32mor\u001b[0m \u001b[0mtype\u001b[0m\u001b[0;34m(\u001b[0m\u001b[0mgetrandbits\u001b[0m\u001b[0;34m)\u001b[0m \u001b[0;32mis\u001b[0m \u001b[0mMethod\u001b[0m\u001b[0;34m:\u001b[0m\u001b[0;34m\u001b[0m\u001b[0;34m\u001b[0m\u001b[0m\n\u001b[0;32m--> 233\u001b[0;31m             \u001b[0mk\u001b[0m \u001b[0;34m=\u001b[0m \u001b[0mn\u001b[0m\u001b[0;34m.\u001b[0m\u001b[0mbit_length\u001b[0m\u001b[0;34m(\u001b[0m\u001b[0;34m)\u001b[0m  \u001b[0;31m# don't use (n-1) here because n can be 1\u001b[0m\u001b[0;34m\u001b[0m\u001b[0;34m\u001b[0m\u001b[0m\n\u001b[0m\u001b[1;32m    234\u001b[0m             \u001b[0mr\u001b[0m \u001b[0;34m=\u001b[0m \u001b[0mgetrandbits\u001b[0m\u001b[0;34m(\u001b[0m\u001b[0mk\u001b[0m\u001b[0;34m)\u001b[0m          \u001b[0;31m# 0 <= r < 2**k\u001b[0m\u001b[0;34m\u001b[0m\u001b[0;34m\u001b[0m\u001b[0m\n\u001b[1;32m    235\u001b[0m             \u001b[0;32mwhile\u001b[0m \u001b[0mr\u001b[0m \u001b[0;34m>=\u001b[0m \u001b[0mn\u001b[0m\u001b[0;34m:\u001b[0m\u001b[0;34m\u001b[0m\u001b[0;34m\u001b[0m\u001b[0m\n",
      "\u001b[0;31mKeyboardInterrupt\u001b[0m: "
     ]
    }
   ],
   "source": [
    "# generate final poem\n",
    "#poem_output = generate_rhyme(hmm, rhyme_dict, syllable_dict, syllable_end_dict, obs_map_s)"
   ]
  },
  {
   "cell_type": "code",
   "execution_count": 9,
   "metadata": {},
   "outputs": [],
   "source": [
    "# words = [\"about\",\"about\",\"a-doting\",\"about\",\"a\",\"about\"]\n",
    "# valid, valid_sentence = exact_ten_syllables(words, syllable_dict, syllable_end_dict)\n",
    "# print(valid)\n",
    "# print(valid_sentence)"
   ]
  },
  {
   "cell_type": "code",
   "execution_count": 10,
   "metadata": {},
   "outputs": [],
   "source": [
    "# visualize"
   ]
  },
  {
   "cell_type": "code",
   "execution_count": 23,
   "metadata": {},
   "outputs": [],
   "source": [
    "def get_high_prob_obs(hmm, num_obs_displayed):\n",
    "    A_mat = hmm.A\n",
    "    O_mat = hmm.O\n",
    "    state_obs_topN = collections.defaultdict(list)\n",
    "    for i in range(len(O_mat)): # states, O_mat[i] are the probabilities of each obs under this state\n",
    "        obs_prob = []\n",
    "        for j in range(len(O_mat[i])): # observations\n",
    "            heapq.heappush(obs_prob, (O_mat[i][j], obs_map_s_rev[j])) # (prob, obs-word)\n",
    "        top_n = heapq.nlargest(num_obs_displayed, obs_prob)\n",
    "        for prob, obs in top_n:\n",
    "            state_obs_topN[i].append(obs)\n",
    "#             print(\"************************** Start *******************************\")\n",
    "#             print(\"Current state = \", i)\n",
    "#             print(\"Max_State_Prob_Trans: observation: \", obs, \", probability = \", prob)\n",
    "#             print(\"************************** End *******************************\")\n",
    "    return state_obs_topN\n",
    "  "
   ]
  },
  {
   "cell_type": "code",
   "execution_count": 24,
   "metadata": {},
   "outputs": [
    {
     "name": "stdout",
     "output_type": "stream",
     "text": [
      "State =  0 , top N prob obs:  ['my', 'i', 'the', 'and', 'of']\n",
      "State =  1 , top N prob obs:  ['of', 'thou', 'with', 'my', 'in']\n",
      "State =  2 , top N prob obs:  ['thy', 'that', 'i', 'of', 'and']\n",
      "State =  3 , top N prob obs:  ['the', 'i', 'and', 'of', 'not']\n",
      "State =  4 , top N prob obs:  ['to', 'the', 'my', 'not', 'and']\n",
      "State =  5 , top N prob obs:  ['and', 'of', 'my', 'that', 'the']\n",
      "State =  6 , top N prob obs:  ['my', 'the', 'to', 'and', 'thou']\n",
      "State =  7 , top N prob obs:  ['of', 'to', 'love', 'and', 'i']\n",
      "State =  8 , top N prob obs:  ['and', 'to', 'the', 'thy', 'that']\n",
      "State =  9 , top N prob obs:  ['in', 'thy', 'and', 'to', 'that']\n"
     ]
    }
   ],
   "source": [
    "# states - top N prob obs\n",
    "num_obs_displayed = 5\n",
    "state_obs_topN = get_high_prob_obs(hmm8_s, num_obs_displayed)\n",
    "for key, value in state_obs_topN.items():\n",
    "    print(\"State = \", key, \", top N prob obs: \", value)"
   ]
  },
  {
   "cell_type": "code",
   "execution_count": null,
   "metadata": {},
   "outputs": [],
   "source": [
    "# visualize_sparsities\n",
    "visualize_sparsities(hmm8_s, O_max_cols=50)"
   ]
  }
 ],
 "metadata": {
  "kernelspec": {
   "display_name": "Python 3",
   "language": "python",
   "name": "python3"
  },
  "language_info": {
   "codemirror_mode": {
    "name": "ipython",
    "version": 3
   },
   "file_extension": ".py",
   "mimetype": "text/x-python",
   "name": "python",
   "nbconvert_exporter": "python",
   "pygments_lexer": "ipython3",
   "version": "3.6.7"
  }
 },
 "nbformat": 4,
 "nbformat_minor": 2
}
